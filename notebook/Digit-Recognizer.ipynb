{
 "cells": [
  {
   "cell_type": "code",
   "execution_count": 1,
   "id": "9f63179a",
   "metadata": {},
   "outputs": [],
   "source": [
    "import pandas as pd\n",
    "from pathlib import Path\n",
    "import matplotlib.pyplot as plt\n",
    "import numpy as np\n",
    "plt.set_cmap('gray');\n",
    "%matplotlib inline\n",
    "import seaborn_image as isns\n",
    "import seaborn as sns\n"
   ]
  },
  {
   "cell_type": "markdown",
   "id": "c00554ab",
   "metadata": {},
   "source": [
    "### Import train data"
   ]
  },
  {
   "cell_type": "code",
   "execution_count": 2,
   "id": "c9cd4b9a",
   "metadata": {},
   "outputs": [],
   "source": [
    "data_path = Path().resolve().parent.absolute() /  'dataset' "
   ]
  },
  {
   "cell_type": "code",
   "execution_count": 3,
   "id": "42287fb9",
   "metadata": {},
   "outputs": [
    {
     "data": {
      "text/plain": [
       "True"
      ]
     },
     "execution_count": 3,
     "metadata": {},
     "output_type": "execute_result"
    }
   ],
   "source": [
    "data_path.is_dir()"
   ]
  },
  {
   "cell_type": "code",
   "execution_count": 4,
   "id": "e7ee35da",
   "metadata": {},
   "outputs": [
    {
     "data": {
      "text/html": [
       "<div>\n",
       "<style scoped>\n",
       "    .dataframe tbody tr th:only-of-type {\n",
       "        vertical-align: middle;\n",
       "    }\n",
       "\n",
       "    .dataframe tbody tr th {\n",
       "        vertical-align: top;\n",
       "    }\n",
       "\n",
       "    .dataframe thead th {\n",
       "        text-align: right;\n",
       "    }\n",
       "</style>\n",
       "<table border=\"1\" class=\"dataframe\">\n",
       "  <thead>\n",
       "    <tr style=\"text-align: right;\">\n",
       "      <th></th>\n",
       "      <th>label</th>\n",
       "      <th>pixel0</th>\n",
       "      <th>pixel1</th>\n",
       "      <th>pixel2</th>\n",
       "      <th>pixel3</th>\n",
       "      <th>pixel4</th>\n",
       "      <th>pixel5</th>\n",
       "      <th>pixel6</th>\n",
       "      <th>pixel7</th>\n",
       "      <th>pixel8</th>\n",
       "      <th>...</th>\n",
       "      <th>pixel774</th>\n",
       "      <th>pixel775</th>\n",
       "      <th>pixel776</th>\n",
       "      <th>pixel777</th>\n",
       "      <th>pixel778</th>\n",
       "      <th>pixel779</th>\n",
       "      <th>pixel780</th>\n",
       "      <th>pixel781</th>\n",
       "      <th>pixel782</th>\n",
       "      <th>pixel783</th>\n",
       "    </tr>\n",
       "  </thead>\n",
       "  <tbody>\n",
       "    <tr>\n",
       "      <th>0</th>\n",
       "      <td>1</td>\n",
       "      <td>0</td>\n",
       "      <td>0</td>\n",
       "      <td>0</td>\n",
       "      <td>0</td>\n",
       "      <td>0</td>\n",
       "      <td>0</td>\n",
       "      <td>0</td>\n",
       "      <td>0</td>\n",
       "      <td>0</td>\n",
       "      <td>...</td>\n",
       "      <td>0</td>\n",
       "      <td>0</td>\n",
       "      <td>0</td>\n",
       "      <td>0</td>\n",
       "      <td>0</td>\n",
       "      <td>0</td>\n",
       "      <td>0</td>\n",
       "      <td>0</td>\n",
       "      <td>0</td>\n",
       "      <td>0</td>\n",
       "    </tr>\n",
       "    <tr>\n",
       "      <th>1</th>\n",
       "      <td>0</td>\n",
       "      <td>0</td>\n",
       "      <td>0</td>\n",
       "      <td>0</td>\n",
       "      <td>0</td>\n",
       "      <td>0</td>\n",
       "      <td>0</td>\n",
       "      <td>0</td>\n",
       "      <td>0</td>\n",
       "      <td>0</td>\n",
       "      <td>...</td>\n",
       "      <td>0</td>\n",
       "      <td>0</td>\n",
       "      <td>0</td>\n",
       "      <td>0</td>\n",
       "      <td>0</td>\n",
       "      <td>0</td>\n",
       "      <td>0</td>\n",
       "      <td>0</td>\n",
       "      <td>0</td>\n",
       "      <td>0</td>\n",
       "    </tr>\n",
       "    <tr>\n",
       "      <th>2</th>\n",
       "      <td>1</td>\n",
       "      <td>0</td>\n",
       "      <td>0</td>\n",
       "      <td>0</td>\n",
       "      <td>0</td>\n",
       "      <td>0</td>\n",
       "      <td>0</td>\n",
       "      <td>0</td>\n",
       "      <td>0</td>\n",
       "      <td>0</td>\n",
       "      <td>...</td>\n",
       "      <td>0</td>\n",
       "      <td>0</td>\n",
       "      <td>0</td>\n",
       "      <td>0</td>\n",
       "      <td>0</td>\n",
       "      <td>0</td>\n",
       "      <td>0</td>\n",
       "      <td>0</td>\n",
       "      <td>0</td>\n",
       "      <td>0</td>\n",
       "    </tr>\n",
       "    <tr>\n",
       "      <th>3</th>\n",
       "      <td>4</td>\n",
       "      <td>0</td>\n",
       "      <td>0</td>\n",
       "      <td>0</td>\n",
       "      <td>0</td>\n",
       "      <td>0</td>\n",
       "      <td>0</td>\n",
       "      <td>0</td>\n",
       "      <td>0</td>\n",
       "      <td>0</td>\n",
       "      <td>...</td>\n",
       "      <td>0</td>\n",
       "      <td>0</td>\n",
       "      <td>0</td>\n",
       "      <td>0</td>\n",
       "      <td>0</td>\n",
       "      <td>0</td>\n",
       "      <td>0</td>\n",
       "      <td>0</td>\n",
       "      <td>0</td>\n",
       "      <td>0</td>\n",
       "    </tr>\n",
       "    <tr>\n",
       "      <th>4</th>\n",
       "      <td>0</td>\n",
       "      <td>0</td>\n",
       "      <td>0</td>\n",
       "      <td>0</td>\n",
       "      <td>0</td>\n",
       "      <td>0</td>\n",
       "      <td>0</td>\n",
       "      <td>0</td>\n",
       "      <td>0</td>\n",
       "      <td>0</td>\n",
       "      <td>...</td>\n",
       "      <td>0</td>\n",
       "      <td>0</td>\n",
       "      <td>0</td>\n",
       "      <td>0</td>\n",
       "      <td>0</td>\n",
       "      <td>0</td>\n",
       "      <td>0</td>\n",
       "      <td>0</td>\n",
       "      <td>0</td>\n",
       "      <td>0</td>\n",
       "    </tr>\n",
       "    <tr>\n",
       "      <th>...</th>\n",
       "      <td>...</td>\n",
       "      <td>...</td>\n",
       "      <td>...</td>\n",
       "      <td>...</td>\n",
       "      <td>...</td>\n",
       "      <td>...</td>\n",
       "      <td>...</td>\n",
       "      <td>...</td>\n",
       "      <td>...</td>\n",
       "      <td>...</td>\n",
       "      <td>...</td>\n",
       "      <td>...</td>\n",
       "      <td>...</td>\n",
       "      <td>...</td>\n",
       "      <td>...</td>\n",
       "      <td>...</td>\n",
       "      <td>...</td>\n",
       "      <td>...</td>\n",
       "      <td>...</td>\n",
       "      <td>...</td>\n",
       "      <td>...</td>\n",
       "    </tr>\n",
       "    <tr>\n",
       "      <th>41995</th>\n",
       "      <td>0</td>\n",
       "      <td>0</td>\n",
       "      <td>0</td>\n",
       "      <td>0</td>\n",
       "      <td>0</td>\n",
       "      <td>0</td>\n",
       "      <td>0</td>\n",
       "      <td>0</td>\n",
       "      <td>0</td>\n",
       "      <td>0</td>\n",
       "      <td>...</td>\n",
       "      <td>0</td>\n",
       "      <td>0</td>\n",
       "      <td>0</td>\n",
       "      <td>0</td>\n",
       "      <td>0</td>\n",
       "      <td>0</td>\n",
       "      <td>0</td>\n",
       "      <td>0</td>\n",
       "      <td>0</td>\n",
       "      <td>0</td>\n",
       "    </tr>\n",
       "    <tr>\n",
       "      <th>41996</th>\n",
       "      <td>1</td>\n",
       "      <td>0</td>\n",
       "      <td>0</td>\n",
       "      <td>0</td>\n",
       "      <td>0</td>\n",
       "      <td>0</td>\n",
       "      <td>0</td>\n",
       "      <td>0</td>\n",
       "      <td>0</td>\n",
       "      <td>0</td>\n",
       "      <td>...</td>\n",
       "      <td>0</td>\n",
       "      <td>0</td>\n",
       "      <td>0</td>\n",
       "      <td>0</td>\n",
       "      <td>0</td>\n",
       "      <td>0</td>\n",
       "      <td>0</td>\n",
       "      <td>0</td>\n",
       "      <td>0</td>\n",
       "      <td>0</td>\n",
       "    </tr>\n",
       "    <tr>\n",
       "      <th>41997</th>\n",
       "      <td>7</td>\n",
       "      <td>0</td>\n",
       "      <td>0</td>\n",
       "      <td>0</td>\n",
       "      <td>0</td>\n",
       "      <td>0</td>\n",
       "      <td>0</td>\n",
       "      <td>0</td>\n",
       "      <td>0</td>\n",
       "      <td>0</td>\n",
       "      <td>...</td>\n",
       "      <td>0</td>\n",
       "      <td>0</td>\n",
       "      <td>0</td>\n",
       "      <td>0</td>\n",
       "      <td>0</td>\n",
       "      <td>0</td>\n",
       "      <td>0</td>\n",
       "      <td>0</td>\n",
       "      <td>0</td>\n",
       "      <td>0</td>\n",
       "    </tr>\n",
       "    <tr>\n",
       "      <th>41998</th>\n",
       "      <td>6</td>\n",
       "      <td>0</td>\n",
       "      <td>0</td>\n",
       "      <td>0</td>\n",
       "      <td>0</td>\n",
       "      <td>0</td>\n",
       "      <td>0</td>\n",
       "      <td>0</td>\n",
       "      <td>0</td>\n",
       "      <td>0</td>\n",
       "      <td>...</td>\n",
       "      <td>0</td>\n",
       "      <td>0</td>\n",
       "      <td>0</td>\n",
       "      <td>0</td>\n",
       "      <td>0</td>\n",
       "      <td>0</td>\n",
       "      <td>0</td>\n",
       "      <td>0</td>\n",
       "      <td>0</td>\n",
       "      <td>0</td>\n",
       "    </tr>\n",
       "    <tr>\n",
       "      <th>41999</th>\n",
       "      <td>9</td>\n",
       "      <td>0</td>\n",
       "      <td>0</td>\n",
       "      <td>0</td>\n",
       "      <td>0</td>\n",
       "      <td>0</td>\n",
       "      <td>0</td>\n",
       "      <td>0</td>\n",
       "      <td>0</td>\n",
       "      <td>0</td>\n",
       "      <td>...</td>\n",
       "      <td>0</td>\n",
       "      <td>0</td>\n",
       "      <td>0</td>\n",
       "      <td>0</td>\n",
       "      <td>0</td>\n",
       "      <td>0</td>\n",
       "      <td>0</td>\n",
       "      <td>0</td>\n",
       "      <td>0</td>\n",
       "      <td>0</td>\n",
       "    </tr>\n",
       "  </tbody>\n",
       "</table>\n",
       "<p>42000 rows × 785 columns</p>\n",
       "</div>"
      ],
      "text/plain": [
       "       label  pixel0  pixel1  pixel2  pixel3  pixel4  pixel5  pixel6  pixel7  \\\n",
       "0          1       0       0       0       0       0       0       0       0   \n",
       "1          0       0       0       0       0       0       0       0       0   \n",
       "2          1       0       0       0       0       0       0       0       0   \n",
       "3          4       0       0       0       0       0       0       0       0   \n",
       "4          0       0       0       0       0       0       0       0       0   \n",
       "...      ...     ...     ...     ...     ...     ...     ...     ...     ...   \n",
       "41995      0       0       0       0       0       0       0       0       0   \n",
       "41996      1       0       0       0       0       0       0       0       0   \n",
       "41997      7       0       0       0       0       0       0       0       0   \n",
       "41998      6       0       0       0       0       0       0       0       0   \n",
       "41999      9       0       0       0       0       0       0       0       0   \n",
       "\n",
       "       pixel8  ...  pixel774  pixel775  pixel776  pixel777  pixel778  \\\n",
       "0           0  ...         0         0         0         0         0   \n",
       "1           0  ...         0         0         0         0         0   \n",
       "2           0  ...         0         0         0         0         0   \n",
       "3           0  ...         0         0         0         0         0   \n",
       "4           0  ...         0         0         0         0         0   \n",
       "...       ...  ...       ...       ...       ...       ...       ...   \n",
       "41995       0  ...         0         0         0         0         0   \n",
       "41996       0  ...         0         0         0         0         0   \n",
       "41997       0  ...         0         0         0         0         0   \n",
       "41998       0  ...         0         0         0         0         0   \n",
       "41999       0  ...         0         0         0         0         0   \n",
       "\n",
       "       pixel779  pixel780  pixel781  pixel782  pixel783  \n",
       "0             0         0         0         0         0  \n",
       "1             0         0         0         0         0  \n",
       "2             0         0         0         0         0  \n",
       "3             0         0         0         0         0  \n",
       "4             0         0         0         0         0  \n",
       "...         ...       ...       ...       ...       ...  \n",
       "41995         0         0         0         0         0  \n",
       "41996         0         0         0         0         0  \n",
       "41997         0         0         0         0         0  \n",
       "41998         0         0         0         0         0  \n",
       "41999         0         0         0         0         0  \n",
       "\n",
       "[42000 rows x 785 columns]"
      ]
     },
     "execution_count": 4,
     "metadata": {},
     "output_type": "execute_result"
    }
   ],
   "source": [
    "train_data = pd.read_csv(data_path / 'train.csv')\n",
    "train_data"
   ]
  },
  {
   "cell_type": "code",
   "execution_count": 5,
   "id": "463209ff",
   "metadata": {},
   "outputs": [
    {
     "data": {
      "text/plain": [
       "42000"
      ]
     },
     "execution_count": 5,
     "metadata": {},
     "output_type": "execute_result"
    }
   ],
   "source": [
    "len_train_data = len(train_data)\n",
    "len_train_data"
   ]
  },
  {
   "cell_type": "code",
   "execution_count": 6,
   "id": "ca190355",
   "metadata": {},
   "outputs": [],
   "source": [
    "images = train_data.iloc[:, 1:].div(255).values.reshape(len_train_data, 1, 28, 28)"
   ]
  },
  {
   "cell_type": "markdown",
   "id": "1d4958ab",
   "metadata": {},
   "source": [
    "### Plot train data"
   ]
  },
  {
   "cell_type": "code",
   "execution_count": 7,
   "id": "586d9d58",
   "metadata": {},
   "outputs": [],
   "source": [
    "def get_number(num):\n",
    "    return np.flip(train_data[train_data['label'] == num].iloc[0,1:].values.reshape(28,28),0)"
   ]
  },
  {
   "cell_type": "code",
   "execution_count": 8,
   "id": "fb260c28",
   "metadata": {},
   "outputs": [
    {
     "data": {
      "image/png": "[encoded data removed]",
      "text/plain": [
       "<Figure size 550x250 with 10 Axes>"
      ]
     },
     "metadata": {},
     "output_type": "display_data"
    }
   ],
   "source": [
    "fig, axes = plt.subplots(2, 5,figsize=(5.5, 2.5),layout=\"constrained\");\n",
    "\n",
    "fig.suptitle('MNIST Dataset')\n",
    "isns.imshow(ax=axes[0, 0], data=get_number(0),cmap='gray',cbar=False)\n",
    "isns.imshow(ax=axes[0, 1], data=get_number(1),cmap='gray',cbar=False)\n",
    "isns.imshow(ax=axes[0, 2], data=get_number(2),cmap='gray',cbar=False)\n",
    "isns.imshow(ax=axes[0, 3], data=get_number(3),cmap='gray',cbar=False)\n",
    "isns.imshow(ax=axes[0, 4], data=get_number(4),cmap='gray',cbar=False)\n",
    "isns.imshow(ax=axes[1, 0], data=get_number(5),cmap='gray',cbar=False)\n",
    "isns.imshow(ax=axes[1, 1], data=get_number(6),cmap='gray',cbar=False)\n",
    "isns.imshow(ax=axes[1, 2], data=get_number(7),cmap='gray',cbar=False)\n",
    "isns.imshow(ax=axes[1, 3], data=get_number(8),cmap='gray',cbar=False)\n",
    "isns.imshow(ax=axes[1, 4], data=get_number(9),cmap='gray',cbar=False);"
   ]
  },
  {
   "cell_type": "code",
   "execution_count": 9,
   "id": "a35de85d",
   "metadata": {},
   "outputs": [
    {
     "data": {
      "image/png": "[encoded data removed]",
      "text/plain": [
       "<Figure size 640x480 with 1 Axes>"
      ]
     },
     "metadata": {},
     "output_type": "display_data"
    }
   ],
   "source": [
    "sns.set_style('white')\n",
    "sns.set_context('talk')\n",
    "sns.set_palette('dark')\n",
    "\n",
    "train_data['label'].hist(density=1,bins=10);\n",
    "plt.title('MNIST Dataset - histogram');"
   ]
  },
  {
   "cell_type": "markdown",
   "id": "0dd44042",
   "metadata": {},
   "source": [
    "### Custom Datasets in PyTorch"
   ]
  },
  {
   "cell_type": "code",
   "execution_count": 142,
   "id": "cd21e59d",
   "metadata": {},
   "outputs": [],
   "source": [
    "import torch\n",
    "from torch.utils.data import Dataset, DataLoader"
   ]
  },
  {
   "cell_type": "code",
   "execution_count": 143,
   "id": "c490666e",
   "metadata": {},
   "outputs": [],
   "source": [
    "class TrainDataset(Dataset):\n",
    "\n",
    "    def __init__(self, data_path):\n",
    "        self.train_df = pd.read_csv(data_path)\n",
    "        self.images = self.train_df.iloc[:, 1:].div(255).values.reshape(len(self.train_df), 1, 28, 28)\n",
    "        self.img_label = self.train_df.iloc[:, 0].values\n",
    "\n",
    "    def __len__(self):\n",
    "        return len(self.img_label)\n",
    "\n",
    "    def __getitem__(self, idx):\n",
    "        self.image = torch.tensor(self.images[idx], dtype=torch.float32)\n",
    "        self.label = torch.tensor(self.img_label[idx])\n",
    "        return self.image, self.label\n",
    "\n",
    "\n",
    "class TestDataset(Dataset):\n",
    "\n",
    "    def __init__(self, data_path):\n",
    "        self.test_df = pd.read_csv(data_path)\n",
    "        self.images = self.test_df.iloc[:, :].div(255).values.reshape(len(self.test_df), 1, 28, 28)\n",
    "\n",
    "    def __len__(self):\n",
    "        return len(self.test_df)\n",
    "\n",
    "    def __getitem__(self, idx):\n",
    "        self.image = torch.tensor(self.images[idx], dtype=torch.float32)\n",
    "        return self.image\n"
   ]
  },
  {
   "cell_type": "code",
   "execution_count": 144,
   "id": "87d72001",
   "metadata": {},
   "outputs": [],
   "source": [
    "train_dataset = TrainDataset(data_path / 'train.csv')"
   ]
  },
  {
   "cell_type": "code",
   "execution_count": 145,
   "id": "519ed3fb",
   "metadata": {},
   "outputs": [
    {
     "data": {
      "image/png": "[encoded data removed]",
      "text/plain": [
       "<Figure size 640x480 with 1 Axes>"
      ]
     },
     "metadata": {},
     "output_type": "display_data"
    }
   ],
   "source": [
    "plt.imshow(train_dataset[1][0].numpy()[0], cmap='gray');"
   ]
  },
  {
   "cell_type": "markdown",
   "id": "47b41860",
   "metadata": {},
   "source": [
    "### Model"
   ]
  },
  {
   "cell_type": "markdown",
   "id": "060c4b4a",
   "metadata": {},
   "source": [
    "The model was built based on convolutional neural networks:\n",
    "- CNN: in_channels 1 kernel 3x3, stride 1x1, padding 1x1, out_channles 16,\n",
    "- Batch Normalization 16 channels,\n",
    "- CNN: in_channels 16 kernel 3x3, stride 1x1, padding 1x1, out_channles 32,\n",
    "- Batch Normalization 32 channels,\n",
    "- Linear Fully Connected Layer."
   ]
  },
  {
   "cell_type": "code",
   "execution_count": 150,
   "id": "4e977bee",
   "metadata": {},
   "outputs": [],
   "source": [
    "import torch.nn as nn\n",
    "import torch.nn.functional as F\n",
    "\n",
    "class CNN(nn.Module):\n",
    "    def __init__(self, in_channel=1, num_classes=10):\n",
    "        super().__init__()\n",
    "        # input 28x28\n",
    "        self.conv1 = nn.Conv2d(in_channels=1, out_channels=16, kernel_size=(3, 3), stride=(1, 1), padding=(1, 1), bias=False)\n",
    "        self.conv1_bn = nn.BatchNorm2d(16)\n",
    "\n",
    "        self.conv2 = nn.Conv2d(in_channels=16, out_channels=32, kernel_size=(3, 3), stride=(1, 1), padding=(1, 1),  bias=False)\n",
    "        self.conv2_bn = nn.BatchNorm2d(32)\n",
    "\n",
    "        self.fc1 = nn.Linear(25088, num_classes)\n",
    "        self.fc1_bn = nn.BatchNorm1d(10)\n",
    "\n",
    "    def forward(self, x):\n",
    "        conv1 = F.relu(self.conv1_bn(self.conv1(x)))\n",
    "        conv2 = F.relu(self.conv2_bn(self.conv2(conv1)))\n",
    "        flat = conv2.reshape(conv2.shape[0], -1)\n",
    "        logits = self.fc1_bn(self.fc1(flat))\n",
    "        return F.log_softmax(logits, dim=1)\n",
    "\n"
   ]
  },
  {
   "cell_type": "markdown",
   "id": "90bd104a",
   "metadata": {},
   "source": [
    "### Train function"
   ]
  },
  {
   "cell_type": "code",
   "execution_count": 157,
   "id": "e46faa2e",
   "metadata": {},
   "outputs": [],
   "source": [
    "import torch.optim as optim\n",
    "\n",
    "device = torch.device(\"cuda\" if torch.cuda.is_available() else \"cpu\")\n",
    "\n",
    "def train(learning_rate=0.001, num_epochs=10,data_path =  Path().resolve().parent.absolute() /  'dataset' ):\n",
    "\n",
    "    def save_checkpoint(state, filename=\"my_checkpoint.pth.tar\"):\n",
    "        print(\"Save checkpoint\")\n",
    "        save_path = Path('checkpoint') / filename\n",
    "        torch.save(state, save_path)\n",
    "\n",
    "    def load_checkpoint(checkpoint):\n",
    "        print(\"Loading checkpoint\")\n",
    "        model.load_state_dict(checkpoint['state_dict'])\n",
    "        optimizer.load_state_dict(checkpoint['optimizer'])\n",
    "\n",
    "\n",
    "    # Hyperparameters\n",
    "    in_channel = 1\n",
    "    num_classes = 10\n",
    "    learning_rate = learning_rate\n",
    "    batch_size = 32\n",
    "    num_epochs = num_epochs\n",
    "\n",
    "\n",
    "    # Load Dataset\n",
    "    train_dataset = TrainDataset(data_path / 'train.csv')\n",
    "    train_loader = DataLoader(dataset=train_dataset, batch_size=batch_size, shuffle=True)\n",
    "\n",
    "    # Initialize network\n",
    "    model = CNN(in_channel=in_channel, num_classes=num_classes).to(device)\n",
    "\n",
    "    criterion = nn.CrossEntropyLoss()\n",
    "    optimizer = optim.Adam(model.parameters(), lr=learning_rate)\n",
    "\n",
    "\n",
    "    loss_vals = []\n",
    "    for epoch in range(num_epochs):\n",
    "\n",
    "        epoch_loss = []\n",
    "        for batch_idx, (data, targets) in enumerate(train_loader):\n",
    "            # CUDA\n",
    "            data = data.to(device=device)\n",
    "            targets = targets.to(device=device)\n",
    "\n",
    "            optimizer.zero_grad()\n",
    "            # forward\n",
    "            scores = model(data)\n",
    "            loss = criterion(scores, targets)\n",
    "\n",
    "            # backward\n",
    "            loss.backward()\n",
    "            optimizer.step()\n",
    "            epoch_loss.append(loss.item())\n",
    "        loss_vals.append(sum(epoch_loss) / len(epoch_loss))\n",
    "    return model, device, train_loader, loss_vals"
   ]
  },
  {
   "cell_type": "code",
   "execution_count": 158,
   "id": "dbe38414",
   "metadata": {},
   "outputs": [],
   "source": [
    "learning_rate = 0.001\n",
    "num_epochs = 8\n",
    "model, device, train_loader, losses = train(num_epochs=num_epochs, learning_rate=learning_rate)"
   ]
  },
  {
   "cell_type": "markdown",
   "id": "919d4d75",
   "metadata": {},
   "source": [
    "### Check accuracy - train data"
   ]
  },
  {
   "cell_type": "code",
   "execution_count": 159,
   "id": "04e9baed",
   "metadata": {},
   "outputs": [],
   "source": [
    "def check_accuracy_train(loader, model):\n",
    "    num_correct = 0\n",
    "    num_samples = 0\n",
    "    model.eval()\n",
    "\n",
    "    with torch.no_grad():\n",
    "        for x, y in loader:\n",
    "            x = x.to(device=device)\n",
    "            y = y.to(device=device)\n",
    "\n",
    "            scores = model(x)\n",
    "            _, predictions = scores.max(1)\n",
    "            num_correct += (predictions == y).sum()\n",
    "            num_samples += predictions.size(0)\n",
    "        print(f\" {num_correct} / {num_samples} {(float(num_correct/num_samples))*100:.2f}\")\n",
    "    model.train()"
   ]
  },
  {
   "cell_type": "code",
   "execution_count": 160,
   "id": "1a2b27d5",
   "metadata": {},
   "outputs": [
    {
     "name": "stdout",
     "output_type": "stream",
     "text": [
      " 41977 / 42000 99.95\n"
     ]
    }
   ],
   "source": [
    "check_accuracy_train(loader=train_loader, model=model)"
   ]
  },
  {
   "cell_type": "markdown",
   "id": "6eecea8e",
   "metadata": {},
   "source": [
    "### Check accuracy - test data"
   ]
  },
  {
   "cell_type": "code",
   "execution_count": 161,
   "id": "db803320",
   "metadata": {},
   "outputs": [],
   "source": [
    "def check_accuracy_test(test_loader, model, data_path):\n",
    "    predictions = np.array([])\n",
    "    model.eval()\n",
    "    with torch.no_grad():\n",
    "        for image in test_loader:\n",
    "            scores = model(image)\n",
    "            _, predicted = torch.max(scores, 1)\n",
    "            predictions = np.append(predictions, predicted)\n",
    "    model.train()\n",
    "    return predictions"
   ]
  },
  {
   "cell_type": "code",
   "execution_count": 162,
   "id": "b0df1695",
   "metadata": {},
   "outputs": [],
   "source": [
    "data_path = Path().resolve().parent.absolute() /  'dataset' \n",
    "test_dataset = TestDataset(data_path / 'test.csv')\n",
    "test_loader = DataLoader(dataset=test_dataset, batch_size=32, shuffle=False)\n",
    "predictions = check_accuracy_test(test_loader, model, data_path)"
   ]
  },
  {
   "cell_type": "code",
   "execution_count": 163,
   "id": "27006104",
   "metadata": {},
   "outputs": [
    {
     "data": {
      "text/plain": [
       "array([2., 0., 9., ..., 3., 9., 2.])"
      ]
     },
     "execution_count": 163,
     "metadata": {},
     "output_type": "execute_result"
    }
   ],
   "source": [
    "predictions"
   ]
  }
 ],
 "metadata": {
  "kernelspec": {
   "display_name": "Python 3 (ipykernel)",
   "language": "python",
   "name": "python3"
  },
  "language_info": {
   "codemirror_mode": {
    "name": "ipython",
    "version": 3
   },
   "file_extension": ".py",
   "mimetype": "text/x-python",
   "name": "python",
   "nbconvert_exporter": "python",
   "pygments_lexer": "ipython3",
   "version": "3.9.7"
  }
 },
 "nbformat": 4,
 "nbformat_minor": 5
}
